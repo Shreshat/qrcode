{
 "cells": [
  {
   "cell_type": "code",
   "execution_count": 2,
   "id": "d01b9499",
   "metadata": {},
   "outputs": [],
   "source": [
    "import qrcode\n",
    "qr=qrcode.QRCode(\n",
    "    version=6,\n",
    "    box_size=3,\n",
    "    border=2\n",
    ")    \n",
    "from tabulate import tabulate\n",
    "data=[[\"SHOP NAME   \",\":\",\" SHRESHAT MEDICAL STORE\"],\n",
    "         [\"OWNER NAME  \",\":\",\" MR.SANDEEP GARG\"],\n",
    "         [\"CONTACT NO. \",\":\",\" +91 9675756868\"],\n",
    "         [\"ADDRESS     \",\":\",\" TEACHER'S COLONY,DANKAUR\"],\n",
    "         [\"GST IN      \",\":\",\" NIL\"],\n",
    "         [\"SHOP TIMINGS\",\":\",\" 9AM TO 8PM DAILY\"],\n",
    "         ]\n",
    "\n",
    "\n",
    "\n",
    "qr.add_data(tabulate(data))\n",
    "qr.make(fit=True)\n",
    "img=qr.make_image(fill=\"\",back_color=\"white\")    \n",
    "img.save('text.pdf')\n",
    "img.show(tabulate(data))\n"
   ]
  },
  {
   "cell_type": "code",
   "execution_count": null,
   "id": "3b76f5d4",
   "metadata": {},
   "outputs": [],
   "source": []
  }
 ],
 "metadata": {
  "kernelspec": {
   "display_name": "Python 3 (ipykernel)",
   "language": "python",
   "name": "python3"
  },
  "language_info": {
   "codemirror_mode": {
    "name": "ipython",
    "version": 3
   },
   "file_extension": ".py",
   "mimetype": "text/x-python",
   "name": "python",
   "nbconvert_exporter": "python",
   "pygments_lexer": "ipython3",
   "version": "3.9.12"
  }
 },
 "nbformat": 4,
 "nbformat_minor": 5
}
